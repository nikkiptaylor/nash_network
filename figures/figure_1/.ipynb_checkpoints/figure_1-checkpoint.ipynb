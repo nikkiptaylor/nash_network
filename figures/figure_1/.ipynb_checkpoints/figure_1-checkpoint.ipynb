{
 "cells": [
  {
   "cell_type": "markdown",
   "metadata": {},
   "source": [
    "# Figure 1: metrics from final trained model - ROC, PR curves\n",
    "\n",
    "Run all cells to test on befree and sven genes, save figs"
   ]
  },
  {
   "cell_type": "code",
   "execution_count": 23,
   "metadata": {},
   "outputs": [],
   "source": [
    "import os\n",
    "import pickle as pkl\n",
    "import pandas as pd\n",
    "from sklearn.metrics import *\n",
    "import matplotlib.pyplot as plt\n",
    "\n",
    "\n",
    "\n",
    "\n",
    "# make files for each positive set\n",
    "if not os.path.exists('befree'):\n",
    "    os.makedirs('befree')\n",
    "if not os.path.exists('sven'):\n",
    "    os.makedirs('sven')"
   ]
  },
  {
   "cell_type": "markdown",
   "metadata": {},
   "source": [
    "## 1. Load trained model"
   ]
  },
  {
   "cell_type": "code",
   "execution_count": 19,
   "metadata": {},
   "outputs": [],
   "source": [
    "nash_svc = pkl.load(open('../results/final_model/nash_SVC_trained.pkl', 'rb'))\n",
    "feature_selector = nash_svc.skb\n",
    "model = nash_svc.svc"
   ]
  },
  {
   "cell_type": "markdown",
   "metadata": {},
   "source": [
    "## 2. Define functions for testing"
   ]
  },
  {
   "cell_type": "code",
   "execution_count": 25,
   "metadata": {},
   "outputs": [],
   "source": [
    "def evaluate(svc, test_X, test_y, save_path):\n",
    "    \"\"\"\n",
    "    Calculates metrics for svc on test set\n",
    "    :param svc:\n",
    "    :param test_X:\n",
    "    :param test_y:\n",
    "    :param save_path:\n",
    "    \"\"\"\n",
    "    predicted_y = svc.predict(test_X)\n",
    "    report = pd.DataFrame.from_dict(classification_report(test_y, predicted_y, output_dict=True)).T\n",
    "    print(report)\n",
    "    report.to_csv(save_path + '/classification_report.csv')\n",
    "\n",
    "    plot_roc_curve(svc, test_X, test_y)\n",
    "    plt.title('ROC')\n",
    "    plt.plot([0, 1], [0, 1], 'b--')\n",
    "    plt.savefig(save_path + '/roc.png')\n",
    "    plt.clf()\n",
    "    plt.close()\n",
    "    plt.show()\n",
    "\n",
    "    plot_precision_recall_curve(svc, test_X, test_y)\n",
    "    plt.plot([0, 1], [1, 0], 'b--')\n",
    "    plt.title('PR')\n",
    "    plt.savefig(save_path + '/PR.png')\n",
    "    plt.clf()\n",
    "    plt.close()\n",
    "    plt.show()\n",
    "\n",
    "    plot_confusion_matrix(svc, test_X, test_y)\n",
    "    plt.savefig(save_path + '/confusion_matrix.png')\n",
    "    plt.clf()\n",
    "    plt.close()"
   ]
  },
  {
   "cell_type": "code",
   "execution_count": 21,
   "metadata": {},
   "outputs": [],
   "source": [
    "def get_test_set(nash_svc, pos_genes):\n",
    "    test_X = nash_svc.dataset.loc[pos_genes + nash_svc.neg_test_genes, ]\n",
    "    test_y = [1] * len(pos_genes) + [0] * len(nash_svc.neg_test_genes)\n",
    "    return test_X, test_y"
   ]
  },
  {
   "cell_type": "markdown",
   "metadata": {},
   "source": [
    "## 3. Test on befree genes and save"
   ]
  },
  {
   "cell_type": "code",
   "execution_count": 24,
   "metadata": {},
   "outputs": [
    {
     "name": "stdout",
     "output_type": "stream",
     "text": [
      "              precision    recall  f1-score     support\n",
      "0              0.615942  0.850000  0.714286  200.000000\n",
      "1              0.870690  0.655844  0.748148  308.000000\n",
      "accuracy       0.732283  0.732283  0.732283    0.732283\n",
      "macro avg      0.743316  0.752922  0.731217  508.000000\n",
      "weighted avg   0.770395  0.732283  0.734816  508.000000\n"
     ]
    }
   ],
   "source": [
    "befree_genes = nash_svc.M.load_befree_genes(threshold=0)  \n",
    "test_X, test_y = get_test_set(nash_svc, befree_genes)\n",
    "evaluate(model, test_X, test_y, 'befree')"
   ]
  },
  {
   "cell_type": "markdown",
   "metadata": {},
   "source": [
    "## 4. Test on svensson genes and save"
   ]
  },
  {
   "cell_type": "code",
   "execution_count": null,
   "metadata": {},
   "outputs": [],
   "source": [
    "sven_genes = nash_svc.M.load_svensson_genes(threshold=0)  \n",
    "test_X, test_y = get_test_set(nash_svc, sven_genes)\n",
    "evaluate(model, test_X, test_y, 'sven')"
   ]
  },
  {
   "cell_type": "code",
   "execution_count": 26,
   "metadata": {},
   "outputs": [
    {
     "name": "stdout",
     "output_type": "stream",
     "text": [
      "Modules.py                 refined_model.py\n",
      "\u001b[34m__pycache__\u001b[m\u001b[m                roc_thresholds_118sven.csv\n",
      "benchmark.py               train_final_model.ipynb\n",
      "module_params.ipynb\n"
     ]
    }
   ],
   "source": []
  }
 ],
 "metadata": {
  "kernelspec": {
   "display_name": "Python 3",
   "language": "python",
   "name": "python3"
  },
  "language_info": {
   "codemirror_mode": {
    "name": "ipython",
    "version": 3
   },
   "file_extension": ".py",
   "mimetype": "text/x-python",
   "name": "python",
   "nbconvert_exporter": "python",
   "pygments_lexer": "ipython3",
   "version": "3.8.5"
  }
 },
 "nbformat": 4,
 "nbformat_minor": 4
}
