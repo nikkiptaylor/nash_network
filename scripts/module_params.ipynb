{
 "cells": [
  {
   "cell_type": "code",
   "execution_count": 1,
   "metadata": {},
   "outputs": [],
   "source": [
    "from modules import *\n",
    "import matplotlib.pyplot as plt\n",
    "import os\n",
    "import pickle as pkl\n",
    "from scipy.stats import pearsonr\n",
    "M = Modules()"
   ]
  },
  {
   "cell_type": "code",
   "execution_count": 7,
   "metadata": {},
   "outputs": [
    {
     "data": {
      "text/plain": [
       "<matplotlib.collections.PathCollection at 0x7fb05eb5d220>"
      ]
     },
     "execution_count": 7,
     "metadata": {},
     "output_type": "execute_result"
    },
    {
     "data": {
      "image/png": "[encoded data removed]",
      "text/plain": [
       "<Figure size 432x288 with 1 Axes>"
      ]
     },
     "metadata": {
      "needs_background": "light"
     },
     "output_type": "display_data"
    }
   ],
   "source": [
    "# of genes in a module\n",
    "# avg pairwise similarity\n",
    "# std of pairwise similarity\n",
    "# std/# of genes\n",
    "\n",
    "nums = []\n",
    "stds = []\n",
    "\n",
    "for mod in M.module_vectors.index:\n",
    "    genes = M.module_to_genes[mod]\n",
    "    num_genes = len(genes)\n",
    "    gene_embeds = M.gene_embeddings.loc[genes,]\n",
    "    cosine_sims = cosine_similarity(gene_embeds).flatten()\n",
    "    std_sims = np.std(cosine_sims)\n",
    "    nums.append(num_genes)\n",
    "    stds.append(std_sims)\n",
    "    \n",
    "plt.scatter(nums, stds)\n",
    "    "
   ]
  },
  {
   "cell_type": "code",
   "execution_count": 10,
   "metadata": {},
   "outputs": [
    {
     "data": {
      "text/plain": [
       "(0.15146401672371884, 0.01654354829026358)"
      ]
     },
     "execution_count": 10,
     "metadata": {},
     "output_type": "execute_result"
    }
   ],
   "source": [
    "pearsonr(nums, stds)"
   ]
  },
  {
   "cell_type": "code",
   "execution_count": 19,
   "metadata": {},
   "outputs": [
    {
     "data": {
      "text/plain": [
       "(array([92., 44., 32., 23., 11., 10.,  9.,  5.,  3.,  3.,  2.,  6.,  3.,\n",
       "         0.,  1.,  0.,  0.,  0.,  0.,  1.,  2.,  0.,  1.,  0.,  0.,  0.,\n",
       "         0.,  0.,  0.,  0.,  0.,  0.,  0.,  0.,  0.,  1.,  0.,  0.,  0.,\n",
       "         0.,  0.,  0.,  0.,  0.,  0.,  0.,  0.,  0.,  0.,  0.,  0.,  0.,\n",
       "         0.,  0.,  0.,  0.,  0.,  0.,  0.,  0.,  0.,  0.,  0.,  0.,  0.,\n",
       "         0.,  0.,  0.,  1.]),\n",
       " array([0.        , 0.00324869, 0.00649737, 0.00974606, 0.01299474,\n",
       "        0.01624343, 0.01949211, 0.0227408 , 0.02598948, 0.02923817,\n",
       "        0.03248685, 0.03573554, 0.03898422, 0.04223291, 0.04548159,\n",
       "        0.04873028, 0.05197896, 0.05522765, 0.05847633, 0.06172502,\n",
       "        0.0649737 , 0.06822239, 0.07147107, 0.07471976, 0.07796844,\n",
       "        0.08121713, 0.08446581, 0.0877145 , 0.09096318, 0.09421187,\n",
       "        0.09746055, 0.10070924, 0.10395792, 0.10720661, 0.11045529,\n",
       "        0.11370398, 0.11695266, 0.12020135, 0.12345003, 0.12669872,\n",
       "        0.1299474 , 0.13319609, 0.13644477, 0.13969346, 0.14294214,\n",
       "        0.14619083, 0.14943951, 0.1526882 , 0.15593688, 0.15918557,\n",
       "        0.16243425, 0.16568294, 0.16893162, 0.17218031, 0.175429  ,\n",
       "        0.17867768, 0.18192637, 0.18517505, 0.18842374, 0.19167242,\n",
       "        0.19492111, 0.19816979, 0.20141848, 0.20466716, 0.20791585,\n",
       "        0.21116453, 0.21441322, 0.2176619 , 0.22091059, 0.22415927]),\n",
       " <BarContainer object of 69 artists>)"
      ]
     },
     "execution_count": 19,
     "metadata": {},
     "output_type": "execute_result"
    },
    {
     "data": {
      "image/png": "[encoded data removed]",
      "text/plain": [
       "<Figure size 432x288 with 1 Axes>"
      ]
     },
     "metadata": {
      "needs_background": "light"
     },
     "output_type": "display_data"
    }
   ],
   "source": [
    "# normalized stds\n",
    "normed_std = np.array(stds)/np.array(nums)\n",
    "plt.hist(normed_std, bins='auto')"
   ]
  },
  {
   "cell_type": "code",
   "execution_count": null,
   "metadata": {},
   "outputs": [],
   "source": [
    "# make a ranked \"p-value\" for each gene-module score\n",
    "# for each gene-module_score, compare to distribution of gene\n",
    "\n",
    "TALK TO TIANYUN ABOUT THIS NORMALIZING, I AM A LIL CONFUSED"
   ]
  }
 ],
 "metadata": {
  "kernelspec": {
   "display_name": "Python 3",
   "language": "python",
   "name": "python3"
  },
  "language_info": {
   "codemirror_mode": {
    "name": "ipython",
    "version": 3
   },
   "file_extension": ".py",
   "mimetype": "text/x-python",
   "name": "python",
   "nbconvert_exporter": "python",
   "pygments_lexer": "ipython3",
   "version": "3.9.4"
  }
 },
 "nbformat": 4,
 "nbformat_minor": 4
}
