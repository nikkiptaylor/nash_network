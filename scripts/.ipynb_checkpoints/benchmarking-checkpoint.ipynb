{
 "cells": [
  {
   "cell_type": "markdown",
   "metadata": {},
   "source": [
    "# Benchmarking: \n",
    "## Model choices:\n",
    "10 fold Cross validation and evaluation on befree/svensson sets with model choices:\n",
    "\n",
    "    1) Features: gene embeddings vs module scores vs module scores with feature selection\n",
    "    2) Sampling: SMOTE vs 1:2 undersampling\n",
    "    3) Model type: linear svc vs logistic regression\n",
    "   \n",
    "## Befree/svensson score cutoffs:\n"
   ]
  },
  {
   "cell_type": "markdown",
   "metadata": {},
   "source": [
    "\n",
    "# 1) Model choices "
   ]
  },
  {
   "cell_type": "code",
   "execution_count": 1,
   "metadata": {},
   "outputs": [],
   "source": [
    "from refined_model import *"
   ]
  },
  {
   "cell_type": "code",
   "execution_count": 2,
   "metadata": {},
   "outputs": [],
   "source": [
    "features = ['embeddings', 'mod_scores', 'fs_mod_scores']\n",
    "sampling = [('under', RandomUnderSampler(sampling_strategy=.5, random_state=0)), ('over', SMOTE(random_state=0))]\n",
    "model_type = ['LR', 'SVC']"
   ]
  },
  {
   "cell_type": "code",
   "execution_count": null,
   "metadata": {},
   "outputs": [
    {
     "name": "stdout",
     "output_type": "stream",
     "text": [
      "             0         1         2         3         4         5         6   \\\n",
      "label    befree      sven  1.000000  2.000000  3.000000  4.000000  5.000000   \n",
      "roc    0.753896  0.778771  0.823925  0.662319  0.840114  0.758438  0.938003   \n",
      "ap     0.833426  0.733746  0.034257  0.029465  0.154617  0.115101  0.042375   \n",
      "\n",
      "             7         8         9         10         11  \n",
      "label  6.000000  7.000000  8.000000  9.000000  10.000000  \n",
      "roc    0.832976  0.922606  0.879882  0.958601   0.929030  \n",
      "ap     0.038463  0.192395  0.060435  0.117000   0.032291  \n",
      "             0         1         2         3         4         5         6   \\\n",
      "label    befree      sven  1.000000  2.000000  3.000000  4.000000  5.000000   \n",
      "roc    0.753896  0.778771  0.823925  0.662319  0.840114  0.758438  0.938003   \n",
      "ap     0.833426  0.733746  0.034257  0.029465  0.154617  0.115101  0.042375   \n",
      "\n",
      "             7         8         9         10         11  \n",
      "label  6.000000  7.000000  8.000000  9.000000  10.000000  \n",
      "roc    0.832976  0.922606  0.879882  0.958601   0.929030  \n",
      "ap     0.038463  0.192395  0.060435  0.117000   0.032291  \n"
     ]
    }
   ],
   "source": [
    "path = '../results/benchmarking'\n",
    "for feat in features:\n",
    "    for samp_label, sample in sampling:\n",
    "        for mod in model_type:\n",
    "            new_path = '/'.join([path, feat, samp_label, mod])\n",
    "            final_model = Nash_Model(save_path=new_path, \n",
    "                                sample=sample,\n",
    "                                use_modules=('mod' in feat),\n",
    "                                feat_sel=('fs' in feat),\n",
    "                                model_type = mod)\n",
    "            final_model.train_all_curated(bench=True)"
   ]
  }
 ],
 "metadata": {
  "kernelspec": {
   "display_name": "Python 3",
   "language": "python",
   "name": "python3"
  },
  "language_info": {
   "codemirror_mode": {
    "name": "ipython",
    "version": 3
   },
   "file_extension": ".py",
   "mimetype": "text/x-python",
   "name": "python",
   "nbconvert_exporter": "python",
   "pygments_lexer": "ipython3",
   "version": "3.8.5"
  }
 },
 "nbformat": 4,
 "nbformat_minor": 4
}
