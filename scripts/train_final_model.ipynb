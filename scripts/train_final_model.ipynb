{
 "cells": [
  {
   "cell_type": "markdown",
   "metadata": {},
   "source": [
    "# Train and save final model\n",
    "\n",
    "Run all cells to train model as described below and score all 14,707 genes"
   ]
  },
  {
   "cell_type": "markdown",
   "metadata": {},
   "source": [
    "## Final model details:\n",
    "- Linear SVC\n",
    "\n",
    "- Train using all 70 curated genes as positives, random set of 200 held out as negative set\n",
    "\n",
    "- Random undersampling to achieve 1:2 positive to negative ratio\n",
    "\n",
    "- Gene-module cosine similarity scores as features\n",
    "\n",
    "- Feature selection to pick top 64 modules based on ANOVA F-value"
   ]
  },
  {
   "cell_type": "code",
   "execution_count": 14,
   "metadata": {},
   "outputs": [],
   "source": [
    "from refined_model import *"
   ]
  },
  {
   "cell_type": "code",
   "execution_count": 2,
   "metadata": {},
   "outputs": [],
   "source": [
    "# instantiate model object using configurations described above\n",
    "final_model = Nash_Model(save_path='../results/final_model_svc', \n",
    "                    sample=RandomUnderSampler(sampling_strategy=.5, random_state=0),\n",
    "                    use_modules=True,\n",
    "                    feat_sel=True,\n",
    "                    model_type='SVC')\n",
    "\n",
    "# train the model using the set of all 70 curated genes as positives\n",
    "final_model.train_all_curated()\n",
    "\n",
    "# score all genes and save\n",
    "final_model.score_all_genes()"
   ]
  },
  {
   "cell_type": "code",
   "execution_count": 5,
   "metadata": {},
   "outputs": [
    {
     "data": {
      "text/html": [
       "<div>\n",
       "<style scoped>\n",
       "    .dataframe tbody tr th:only-of-type {\n",
       "        vertical-align: middle;\n",
       "    }\n",
       "\n",
       "    .dataframe tbody tr th {\n",
       "        vertical-align: top;\n",
       "    }\n",
       "\n",
       "    .dataframe thead th {\n",
       "        text-align: right;\n",
       "    }\n",
       "</style>\n",
       "<table border=\"1\" class=\"dataframe\">\n",
       "  <thead>\n",
       "    <tr style=\"text-align: right;\">\n",
       "      <th></th>\n",
       "      <th>0</th>\n",
       "      <th>score</th>\n",
       "      <th>known</th>\n",
       "    </tr>\n",
       "  </thead>\n",
       "  <tbody>\n",
       "    <tr>\n",
       "      <th>0</th>\n",
       "      <td>PTGS2</td>\n",
       "      <td>0.981269</td>\n",
       "      <td>0</td>\n",
       "    </tr>\n",
       "    <tr>\n",
       "      <th>1</th>\n",
       "      <td>HMOX1</td>\n",
       "      <td>0.976353</td>\n",
       "      <td>0</td>\n",
       "    </tr>\n",
       "    <tr>\n",
       "      <th>2</th>\n",
       "      <td>NFE2L2</td>\n",
       "      <td>0.968064</td>\n",
       "      <td>1</td>\n",
       "    </tr>\n",
       "    <tr>\n",
       "      <th>3</th>\n",
       "      <td>NOS2</td>\n",
       "      <td>0.965863</td>\n",
       "      <td>0</td>\n",
       "    </tr>\n",
       "    <tr>\n",
       "      <th>4</th>\n",
       "      <td>POR</td>\n",
       "      <td>0.965423</td>\n",
       "      <td>0</td>\n",
       "    </tr>\n",
       "    <tr>\n",
       "      <th>...</th>\n",
       "      <td>...</td>\n",
       "      <td>...</td>\n",
       "      <td>...</td>\n",
       "    </tr>\n",
       "    <tr>\n",
       "      <th>14702</th>\n",
       "      <td>CAND2</td>\n",
       "      <td>0.002541</td>\n",
       "      <td>0</td>\n",
       "    </tr>\n",
       "    <tr>\n",
       "      <th>14703</th>\n",
       "      <td>RSPH9</td>\n",
       "      <td>0.002440</td>\n",
       "      <td>0</td>\n",
       "    </tr>\n",
       "    <tr>\n",
       "      <th>14704</th>\n",
       "      <td>LRRC6</td>\n",
       "      <td>0.002370</td>\n",
       "      <td>0</td>\n",
       "    </tr>\n",
       "    <tr>\n",
       "      <th>14705</th>\n",
       "      <td>RSPH6A</td>\n",
       "      <td>0.002367</td>\n",
       "      <td>0</td>\n",
       "    </tr>\n",
       "    <tr>\n",
       "      <th>14706</th>\n",
       "      <td>DNAAF3</td>\n",
       "      <td>0.002356</td>\n",
       "      <td>0</td>\n",
       "    </tr>\n",
       "  </tbody>\n",
       "</table>\n",
       "<p>14707 rows × 3 columns</p>\n",
       "</div>"
      ],
      "text/plain": [
       "            0     score  known\n",
       "0       PTGS2  0.981269      0\n",
       "1       HMOX1  0.976353      0\n",
       "2      NFE2L2  0.968064      1\n",
       "3        NOS2  0.965863      0\n",
       "4         POR  0.965423      0\n",
       "...       ...       ...    ...\n",
       "14702   CAND2  0.002541      0\n",
       "14703   RSPH9  0.002440      0\n",
       "14704   LRRC6  0.002370      0\n",
       "14705  RSPH6A  0.002367      0\n",
       "14706  DNAAF3  0.002356      0\n",
       "\n",
       "[14707 rows x 3 columns]"
      ]
     },
     "execution_count": 5,
     "metadata": {},
     "output_type": "execute_result"
    }
   ],
   "source": [
    "# show gene scores\n",
    "pd.read_csv('../results/final_model_svc/all_gene_scores.csv')"
   ]
  }
 ],
 "metadata": {
  "kernelspec": {
   "display_name": "Python 3",
   "language": "python",
   "name": "python3"
  },
  "language_info": {
   "codemirror_mode": {
    "name": "ipython",
    "version": 3
   },
   "file_extension": ".py",
   "mimetype": "text/x-python",
   "name": "python",
   "nbconvert_exporter": "python",
   "pygments_lexer": "ipython3",
   "version": "3.9.4"
  }
 },
 "nbformat": 4,
 "nbformat_minor": 4
}
